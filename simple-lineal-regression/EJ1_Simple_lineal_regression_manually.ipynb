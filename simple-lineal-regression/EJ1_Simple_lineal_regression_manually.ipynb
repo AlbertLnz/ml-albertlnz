{
 "cells": [
  {
   "cell_type": "code",
   "execution_count": 119,
   "metadata": {},
   "outputs": [],
   "source": [
    "import pandas as pd\n",
    "import matplotlib.pyplot as plt\n",
    "import numpy as np\n",
    "import math"
   ]
  },
  {
   "cell_type": "code",
   "execution_count": 97,
   "metadata": {},
   "outputs": [
    {
     "data": {
      "text/html": [
       "<div>\n",
       "<style scoped>\n",
       "    .dataframe tbody tr th:only-of-type {\n",
       "        vertical-align: middle;\n",
       "    }\n",
       "\n",
       "    .dataframe tbody tr th {\n",
       "        vertical-align: top;\n",
       "    }\n",
       "\n",
       "    .dataframe thead th {\n",
       "        text-align: right;\n",
       "    }\n",
       "</style>\n",
       "<table border=\"1\" class=\"dataframe\">\n",
       "  <thead>\n",
       "    <tr style=\"text-align: right;\">\n",
       "      <th></th>\n",
       "      <th>Reduccion de solidos</th>\n",
       "      <th>Reduccion de la demanda de oxigeno</th>\n",
       "    </tr>\n",
       "  </thead>\n",
       "  <tbody>\n",
       "    <tr>\n",
       "      <th>0</th>\n",
       "      <td>3</td>\n",
       "      <td>5</td>\n",
       "    </tr>\n",
       "    <tr>\n",
       "      <th>1</th>\n",
       "      <td>7</td>\n",
       "      <td>11</td>\n",
       "    </tr>\n",
       "    <tr>\n",
       "      <th>2</th>\n",
       "      <td>11</td>\n",
       "      <td>21</td>\n",
       "    </tr>\n",
       "    <tr>\n",
       "      <th>3</th>\n",
       "      <td>15</td>\n",
       "      <td>16</td>\n",
       "    </tr>\n",
       "    <tr>\n",
       "      <th>4</th>\n",
       "      <td>18</td>\n",
       "      <td>16</td>\n",
       "    </tr>\n",
       "  </tbody>\n",
       "</table>\n",
       "</div>"
      ],
      "text/plain": [
       "   Reduccion de solidos  Reduccion de la demanda de oxigeno\n",
       "0                     3                                   5\n",
       "1                     7                                  11\n",
       "2                    11                                  21\n",
       "3                    15                                  16\n",
       "4                    18                                  16"
      ]
     },
     "execution_count": 97,
     "metadata": {},
     "output_type": "execute_result"
    }
   ],
   "source": [
    "datos = pd.read_excel('./SimpleLinealRegression.xlsx')\n",
    "datos.head()"
   ]
  },
  {
   "cell_type": "code",
   "execution_count": 117,
   "metadata": {},
   "outputs": [],
   "source": [
    "x = datos[['Reduccion de solidos']]\n",
    "y = datos[['Reduccion de la demanda de oxigeno']]\n",
    "# print(x.head())\n",
    "# print(y.head())"
   ]
  },
  {
   "cell_type": "code",
   "execution_count": 99,
   "metadata": {},
   "outputs": [
    {
     "data": {
      "image/png": "[encoded data removed]",
      "text/plain": [
       "<Figure size 640x480 with 1 Axes>"
      ]
     },
     "metadata": {},
     "output_type": "display_data"
    }
   ],
   "source": [
    "plt.scatter(x,y)\n",
    "plt.xlabel(\"Reducción de sólidos\") # titulo eje x\n",
    "plt.ylabel(\"Reducción de la demanda de oxígeno\") # titulo eje y\n",
    "plt.grid() # mostrar lineas secundarias\n",
    "plt.show()"
   ]
  },
  {
   "cell_type": "code",
   "execution_count": 100,
   "metadata": {},
   "outputs": [],
   "source": [
    "matriz = datos.to_numpy() # == array([3,5],[7,11],[11,21]...) \n",
    "# print(matriz)"
   ]
  },
  {
   "cell_type": "code",
   "execution_count": 101,
   "metadata": {},
   "outputs": [
    {
     "name": "stdout",
     "output_type": "stream",
     "text": [
      "Cálculo de 'n' (tamaño de la matriz): 33\n",
      "Sumatoria de x: 1104\n",
      "Sumatoria de y: 1124\n",
      "Promedio de x: 33.45454545454545\n",
      "Promedio de y: 34.06060606060606\n",
      "Sumatoria del producto (x · y): 41355\n",
      "Sumatoria de x^2: 41086\n",
      "Sumatoria de y^2: 41998\n"
     ]
    }
   ],
   "source": [
    "# Cálculo de 'n' <- TAMAÑO DE LA MATRIZ\n",
    "n = len(matriz)\n",
    "\n",
    "# Sumatoria de x\n",
    "sumatoria_x = np.sum(matriz[:,0])\n",
    "\n",
    "# Sumatoria de y\n",
    "sumatoria_y = np.sum(matriz[:,1])\n",
    "\n",
    "# Promedio de x\n",
    "promedio_x = sumatoria_x / n\n",
    "\n",
    "# Promedio de y\n",
    "promedio_y = sumatoria_y / n\n",
    "\n",
    "# Sumatoria del producto (x · y)\n",
    "sumatoria_producto = np.sum(matriz[:,0] * matriz[:,1])\n",
    "\n",
    "# Sumatoria de x^2\n",
    "sumatoria_cuadrado_x = np.sum(matriz[:,0] * matriz[:,0])\n",
    "\n",
    "# Sumatoria de y^2\n",
    "sumatoria_cuadrado_y = np.sum(matriz[:,1] * matriz[:,1])\n",
    "\n",
    "print(\"Cálculo de 'n' (tamaño de la matriz):\", n)\n",
    "print(\"Sumatoria de x:\", sumatoria_x)\n",
    "print(\"Sumatoria de y:\", sumatoria_y)\n",
    "print(\"Promedio de x:\", promedio_x)\n",
    "print(\"Promedio de y:\", promedio_y)\n",
    "print(\"Sumatoria del producto (x · y):\", sumatoria_producto)\n",
    "print(\"Sumatoria de x^2:\", sumatoria_cuadrado_x)\n",
    "print(\"Sumatoria de y^2:\", sumatoria_cuadrado_y)"
   ]
  },
  {
   "cell_type": "code",
   "execution_count": 102,
   "metadata": {
    "vscode": {
     "languageId": "latex"
    }
   },
   "outputs": [
    {
     "data": {
      "text/latex": [
       "RESUMEN:\n",
       "$$n = 33$$\n",
       "$$\\sum_{i=1}^{33}x_i = 1104$$\n",
       "$$\\sum_{i=1}^{33}y_i = 1124$$\n",
       "$$\\sum_{i=1}^{33}x_i·y_i = 41355$$\n",
       "$$\\sum_{i=1}^{33}x_i^2 = 41086$$\n"
      ],
      "text/plain": [
       "<IPython.core.display.Latex object>"
      ]
     },
     "metadata": {},
     "output_type": "display_data"
    }
   ],
   "source": [
    "%%latex\n",
    "RESUMEN:\n",
    "$$n = 33$$\n",
    "$$\\sum_{i=1}^{33}x_i = 1104$$\n",
    "$$\\sum_{i=1}^{33}y_i = 1124$$\n",
    "$$\\sum_{i=1}^{33}x_i·y_i = 41355$$\n",
    "$$\\sum_{i=1}^{33}x_i^2 = 41086$$"
   ]
  },
  {
   "cell_type": "code",
   "execution_count": 103,
   "metadata": {
    "vscode": {
     "languageId": "latex"
    }
   },
   "outputs": [
    {
     "data": {
      "text/latex": [
       "\n",
       "$$PENDIENTE: m = \\frac{n \\cdot \\sum_{i=1}^{n}x_i y_i - (\\sum_{i=1}^{n}x_i) \\cdot (\\sum_{i=1}^{n}y_i)}{n \\cdot \\sum_{i=1}^{n}x_i^2 - (\\sum_{i=1}^{n}x_i)^2} = \\frac{\\left(\\sum_{i=1}^{n}(x_i - y_i) \\cdot (y_i - \\overline{y})\\right)}{\\left(\\sum_{i=1}^{n}(x_i - \\overline{x})^2\\right)} \\cdot y$$\n",
       "\n",
       "$$INTERCEPTO: b = \\frac{\\sum_{i=1}^{n}y_i - (m \\cdot \\sum_{i=1}^{n}x_i)}{n} = \\overline{y} - m\\overline{x}$$ \n",
       "\n",
       "$$INTERCEPTOAlternative: a = \\overline{y} - b\\overline{x}\n"
      ],
      "text/plain": [
       "<IPython.core.display.Latex object>"
      ]
     },
     "metadata": {},
     "output_type": "display_data"
    }
   ],
   "source": [
    "%%latex - Pendiente e Intercepto\n",
    "\n",
    "$$PENDIENTE: m = \\frac{n \\cdot \\sum_{i=1}^{n}x_i y_i - (\\sum_{i=1}^{n}x_i) \\cdot (\\sum_{i=1}^{n}y_i)}{n \\cdot \\sum_{i=1}^{n}x_i^2 - (\\sum_{i=1}^{n}x_i)^2} = \\frac{\\left(\\sum_{i=1}^{n}(x_i - y_i) \\cdot (y_i - \\overline{y})\\right)}{\\left(\\sum_{i=1}^{n}(x_i - \\overline{x})^2\\right)} \\cdot y$$\n",
    "\n",
    "$$INTERCEPTO: b = \\frac{\\sum_{i=1}^{n}y_i - (m \\cdot \\sum_{i=1}^{n}x_i)}{n} = \\overline{y} - m\\overline{x}$$ \n",
    "\n",
    "$$INTERCEPTOAlternative: a = \\overline{y} - b\\overline{x}$$"
   ]
  },
  {
   "cell_type": "code",
   "execution_count": 104,
   "metadata": {},
   "outputs": [
    {
     "name": "stdout",
     "output_type": "stream",
     "text": [
      "Pendiente: 0.9036432105793231\n",
      "Intercepto: 3.829633197588709\n",
      "Intercepto alternativa (a partir de conocer la Recta de regresión): 3.8296331975887092\n"
     ]
    }
   ],
   "source": [
    "m = ((n * sumatoria_producto) - (sumatoria_x * sumatoria_y)) / ((n * sumatoria_cuadrado_x) - (sumatoria_x * sumatoria_x))\n",
    "b = (sumatoria_y - (m * sumatoria_x)) / n\n",
    "b_alt = promedio_y - m*promedio_x # -> interceptor == ordenada\n",
    "\n",
    "print(\"Pendiente:\", m)\n",
    "print(\"Intercepto:\", b)\n",
    "print(\"Intercepto alternativa (a partir de conocer la Recta de regresión):\", b_alt)"
   ]
  },
  {
   "cell_type": "code",
   "execution_count": 105,
   "metadata": {
    "vscode": {
     "languageId": "latex"
    }
   },
   "outputs": [
    {
     "data": {
      "text/latex": [
       "\n",
       "$$\\hat{y} = b + m · x$$\n",
       "$$\\hat{y} = 3.8296 + 0.9036 · x$$\n"
      ],
      "text/plain": [
       "<IPython.core.display.Latex object>"
      ]
     },
     "metadata": {},
     "output_type": "display_data"
    }
   ],
   "source": [
    "%%latex - Recta de regresión (y):\n",
    "\n",
    "$$\\hat{y} = b + m · x$$\n",
    "$$\\hat{y} = 3.8296 + 0.9036 · x$$"
   ]
  },
  {
   "cell_type": "code",
   "execution_count": 106,
   "metadata": {},
   "outputs": [
    {
     "name": "stdout",
     "output_type": "stream",
     "text": [
      "La predicción del modelo cuando x=100 es: 94.193954255521\n"
     ]
    }
   ],
   "source": [
    "# Estimación (x=100) ->  // Recta regresión: y = a + bx : \n",
    "prediccion = b + m * 100\n",
    "print(\"La predicción del modelo cuando x=100 es:\", prediccion)"
   ]
  },
  {
   "cell_type": "code",
   "execution_count": 107,
   "metadata": {
    "vscode": {
     "languageId": "latex"
    }
   },
   "outputs": [
    {
     "data": {
      "text/latex": [
       "$$S_{xy} = \\sqrt{\\frac{\\sum y^2 - a \\sum y - b \\sum xy}{n - 2}}\n"
      ],
      "text/plain": [
       "<IPython.core.display.Latex object>"
      ]
     },
     "metadata": {},
     "output_type": "display_data"
    }
   ],
   "source": [
    "%%latex - Error estándard de la regresión (Sxy):\n",
    "$$S_{xy} = \\sqrt{\\frac{\\sum y^2 - a \\sum y - b \\sum xy}{n - 2}}$$\n"
   ]
  },
  {
   "cell_type": "code",
   "execution_count": 108,
   "metadata": {},
   "outputs": [
    {
     "name": "stdout",
     "output_type": "stream",
     "text": [
      "Error estándard de la regresión: 3.229537629956172\n"
     ]
    }
   ],
   "source": [
    "sxy = math.sqrt(((sumatoria_cuadrado_y) - (b*sumatoria_y) - (m*sumatoria_producto)) / (n - 2))\n",
    "print(\"Error estándard de la regresión:\", sxy)"
   ]
  },
  {
   "cell_type": "code",
   "execution_count": 109,
   "metadata": {
    "vscode": {
     "languageId": "latex"
    }
   },
   "outputs": [
    {
     "data": {
      "text/latex": [
       "$$Coeficiente de Pearson: r = \\frac{n \\sum xy - (\\sum x \\sum y)}{\\sqrt{[(n \\sum x^2) - (\\sum x)^2] · [(n \\sum y^2) - (\\sum y^2)]}}\n"
      ],
      "text/plain": [
       "<IPython.core.display.Latex object>"
      ]
     },
     "metadata": {},
     "output_type": "display_data"
    }
   ],
   "source": [
    "%%latex - Coeficiente de correlación para la recta de regresión (Coeficiente de Pearson) (r)\n",
    "$$Coeficiente de Pearson: r = \\frac{n \\sum xy - (\\sum x \\sum y)}{\\sqrt{[(n \\sum x^2) - (\\sum x)^2] · [(n \\sum y^2) - (\\sum y^2)]}}$$"
   ]
  },
  {
   "cell_type": "code",
   "execution_count": 110,
   "metadata": {},
   "outputs": [
    {
     "name": "stdout",
     "output_type": "stream",
     "text": [
      "Coeficiente de correlacion de Pearson: 0.9554793566657453\n"
     ]
    }
   ],
   "source": [
    "coef_Pearson = ((n*sumatoria_producto) - (sumatoria_x*sumatoria_y)) / (math.sqrt(((n*sumatoria_cuadrado_x) - pow(sumatoria_x, 2)) * ((n*sumatoria_cuadrado_y) - pow(sumatoria_y, 2))))\n",
    "print(\"Coeficiente de correlacion de Pearson:\", coef_Pearson)"
   ]
  },
  {
   "cell_type": "code",
   "execution_count": 111,
   "metadata": {},
   "outputs": [
    {
     "name": "stdout",
     "output_type": "stream",
     "text": [
      "Coeficiente de determinación: 91.29408010143865 %\n"
     ]
    }
   ],
   "source": [
    "# Coeficiente de determinación (r²)\n",
    "coef_determinacion = pow(coef_Pearson, 2) * 100\n",
    "print(\"Coeficiente de determinación:\", coef_determinacion, \"%\")"
   ]
  },
  {
   "cell_type": "code",
   "execution_count": 128,
   "metadata": {},
   "outputs": [
    {
     "data": {
      "text/plain": [
       "<matplotlib.legend.Legend at 0x7f6924841010>"
      ]
     },
     "execution_count": 128,
     "metadata": {},
     "output_type": "execute_result"
    },
    {
     "data": {
      "image/png": "[encoded data removed]",
      "text/plain": [
       "<Figure size 640x480 with 1 Axes>"
      ]
     },
     "metadata": {},
     "output_type": "display_data"
    }
   ],
   "source": [
    "plt.scatter(x, y)\n",
    "plt.xlabel(\"Reducción de sólidos\")\n",
    "plt.ylabel(\"Reducción de la demanda de oxígeno\")\n",
    "plt.grid()\n",
    "plt.plot(matriz[:, 0], b + m * matriz[:, 0], color='red')\n",
    "plt.legend(['Valores', 'Recta de regresión'])"
   ]
  },
  {
   "cell_type": "code",
   "execution_count": null,
   "metadata": {},
   "outputs": [],
   "source": []
  }
 ],
 "metadata": {
  "kernelspec": {
   "display_name": "Python 3 (ipykernel)",
   "language": "python",
   "name": "python3"
  },
  "language_info": {
   "codemirror_mode": {
    "name": "ipython",
    "version": 3
   },
   "file_extension": ".py",
   "mimetype": "text/x-python",
   "name": "python",
   "nbconvert_exporter": "python",
   "pygments_lexer": "ipython3",
   "version": "3.11.7"
  }
 },
 "nbformat": 4,
 "nbformat_minor": 2
}
